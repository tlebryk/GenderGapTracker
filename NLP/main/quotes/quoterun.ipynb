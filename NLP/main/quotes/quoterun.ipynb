{
 "cells": [
  {
   "cell_type": "code",
   "execution_count": 2,
   "metadata": {},
   "outputs": [
    {
     "name": "stdout",
     "output_type": "stream",
     "text": [
      "Loading spaCy language model...\n",
      "Finished loading.\n"
     ]
    }
   ],
   "source": [
    "import entity_gender_annotator"
   ]
  },
  {
   "cell_type": "code",
   "execution_count": 3,
   "metadata": {},
   "outputs": [],
   "source": [
    "from thesisutils import utils as ut\n",
    "from tqdm import tqdm"
   ]
  },
  {
   "cell_type": "code",
   "execution_count": 4,
   "metadata": {},
   "outputs": [],
   "source": [
    "# import importlib\n",
    "# importlib.reload(entity_gender_annotator)"
   ]
  },
  {
   "cell_type": "code",
   "execution_count": null,
   "metadata": {},
   "outputs": [],
   "source": []
  },
  {
   "cell_type": "code",
   "execution_count": 5,
   "metadata": {},
   "outputs": [
    {
     "name": "stdout",
     "output_type": "stream",
     "text": [
      "Dropping rows:\n",
      "91.2 %\n",
      "18601 / 20396\n",
      "Dropping rows:\n",
      "20.8 %\n",
      "4235 / 20396\n"
     ]
    }
   ],
   "source": [
    "    pub = ut.publications['hkfp']\n",
    "   \n",
    "    df = ut.standardize(ut.read_df_s3(None, pubdefault=pub) , pub)\n",
    "    tts = \"train\"\n",
    "    train = ut.read_df_s3(f\"{pub}/tts_mask/{tts}_main1.csv\")\n",
    "    train = ut.standardize(train, pub)\n",
    "    trainmask = df.Art_id.isin(train.Art_id)\n",
    "    traindf = ut.drop_report(df,trainmask)\n",
    "    tts = \"test\"\n",
    "    test = ut.read_df_s3(f\"{pub}/tts_mask/{tts}_main1.csv\")\n",
    "    test = ut.standardize(test, pub)\n",
    "    testmask = df.Art_id.isin(test.Art_id)\n",
    "    testdf = ut.drop_report(df,testmask)"
   ]
  },
  {
   "cell_type": "code",
   "execution_count": 5,
   "metadata": {},
   "outputs": [
    {
     "ename": "NameError",
     "evalue": "name 'gen_ner_quotes' is not defined",
     "output_type": "error",
     "traceback": [
      "\u001b[0;31m---------------------------------------------------------------------------\u001b[0m",
      "\u001b[0;31mNameError\u001b[0m                                 Traceback (most recent call last)",
      "\u001b[0;32m/tmp/ipykernel_822/1111379161.py\u001b[0m in \u001b[0;36m<module>\u001b[0;34m\u001b[0m\n\u001b[0;32m----> 1\u001b[0;31m \u001b[0mnerdf\u001b[0m\u001b[0;34m,\u001b[0m \u001b[0mquotedf\u001b[0m \u001b[0;34m=\u001b[0m \u001b[0mgen_ner_quotes\u001b[0m\u001b[0;34m(\u001b[0m\u001b[0mpub\u001b[0m\u001b[0;34m,\u001b[0m \u001b[0mtraindf\u001b[0m\u001b[0;34m)\u001b[0m\u001b[0;34m\u001b[0m\u001b[0;34m\u001b[0m\u001b[0m\n\u001b[0m",
      "\u001b[0;31mNameError\u001b[0m: name 'gen_ner_quotes' is not defined"
     ]
    }
   ],
   "source": [
    "nerdf, quotedf = gen_ner_quotes(pub, traindf)"
   ]
  },
  {
   "cell_type": "code",
   "execution_count": 9,
   "metadata": {},
   "outputs": [],
   "source": [
    "datedf = ut.standardize(ut.read_df_s3(f\"{pub.name}/date/date.csv\"), pub)\n"
   ]
  },
  {
   "cell_type": "code",
   "execution_count": 12,
   "metadata": {},
   "outputs": [],
   "source": [
    "testdf = testdf.drop(\"Date\", axis=1).merge(datedf, on=\"Art_id\", how=\"left\")"
   ]
  },
  {
   "cell_type": "code",
   "execution_count": null,
   "metadata": {},
   "outputs": [
    {
     "name": "stderr",
     "output_type": "stream",
     "text": [
      "  0%|          | 0/8 [00:00<?, ?it/s]"
     ]
    }
   ],
   "source": [
    "yr = 2014\n",
    "test_yr = testdf.loc[lambda d: d.Year.eq(yr)]\n",
    "\n",
    "\n",
    "nerdf, quotedf = entity_gender_annotator.gen_ner_quotes(pub, test_yr)"
   ]
  },
  {
   "cell_type": "code",
   "execution_count": 46,
   "metadata": {},
   "outputs": [
    {
     "name": "stdout",
     "output_type": "stream",
     "text": [
      "FOUND NO QUOTES FOR 2013\n"
     ]
    }
   ],
   "source": [
    "if len(quotedf) == 0:\n",
    "    print(\"FOUND NO QUOTES FOR\", yr)\n",
    "else:\n",
    "    ut.df_to_s3(quotedf, f\"{pub.name}/quotes/quotes_test_{yr}(2).csv\")\n",
    "\n",
    "if len(nerdf) == 0:\n",
    "    print(\"FOUND NO nes FOR\", yr)\n",
    "else:\n",
    "    ut.df_to_s3(nerdf, f\"{pub.name}/ner/ner_test_{yr}(2).csv\")"
   ]
  },
  {
   "cell_type": "code",
   "execution_count": null,
   "metadata": {},
   "outputs": [],
   "source": []
  }
 ],
 "metadata": {
  "kernelspec": {
   "display_name": "conda_quote",
   "language": "python",
   "name": "conda_quote"
  },
  "language_info": {
   "codemirror_mode": {
    "name": "ipython",
    "version": 3
   },
   "file_extension": ".py",
   "mimetype": "text/x-python",
   "name": "python",
   "nbconvert_exporter": "python",
   "pygments_lexer": "ipython3",
   "version": "3.7.12"
  },
  "vscode": {
   "interpreter": {
    "hash": "9351fe5949500e7fddcafd4c378e2cc8babe488f1a5b8e01e66256d976ecd4cd"
   }
  }
 },
 "nbformat": 4,
 "nbformat_minor": 4
}
